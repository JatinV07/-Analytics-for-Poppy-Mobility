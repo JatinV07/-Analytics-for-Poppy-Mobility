{
 "cells": [
  {
   "cell_type": "code",
   "execution_count": 11,
   "metadata": {
    "scrolled": true
   },
   "outputs": [
    {
     "name": "stdout",
     "output_type": "stream",
     "text": [
      "Collecting plotly\n",
      "  Downloading https://files.pythonhosted.org/packages/c9/09/315462259ab7b60a3d4b7159233ed700733c87d889755bdc00a9fb46d692/plotly-4.14.1-py2.py3-none-any.whl (13.2MB)\n",
      "Collecting retrying>=1.3.3 (from plotly)\n",
      "  Downloading https://files.pythonhosted.org/packages/44/ef/beae4b4ef80902f22e3af073397f079c96969c69b2c7d52a57ea9ae61c9d/retrying-1.3.3.tar.gz\n",
      "Requirement already satisfied: six in c:\\users\\vinee\\anaconda3\\lib\\site-packages (from plotly) (1.12.0)\n",
      "Building wheels for collected packages: retrying\n",
      "  Building wheel for retrying (setup.py): started\n",
      "  Building wheel for retrying (setup.py): finished with status 'done'\n",
      "  Stored in directory: C:\\Users\\vinee\\AppData\\Local\\pip\\Cache\\wheels\\d7\\a9\\33\\acc7b709e2a35caa7d4cae442f6fe6fbf2c43f80823d46460c\n",
      "Successfully built retrying\n",
      "Installing collected packages: retrying, plotly\n",
      "Successfully installed plotly-4.14.1 retrying-1.3.3\n",
      "Note: you may need to restart the kernel to use updated packages.\n"
     ]
    }
   ],
   "source": [
    "pip install plotly"
   ]
  },
  {
   "cell_type": "code",
   "execution_count": 135,
   "metadata": {},
   "outputs": [],
   "source": [
    "import re, nltk\n",
    "import time\n",
    "import numpy as np\n",
    "import pandas as pd\n",
    "import seaborn as sns\n",
    "import matplotlib.pyplot as plt\n",
    "from sklearn.preprocessing import StandardScaler\n",
    "from sklearn.metrics import confusion_matrix\n",
    "from imblearn.over_sampling import SMOTE\n",
    "from sklearn.ensemble import RandomForestClassifier, AdaBoostClassifier, GradientBoostingClassifier\n",
    "from lightgbm import LGBMClassifier\n",
    "from sklearn.model_selection import GridSearchCV\n",
    "from sklearn import metrics\n",
    "import joblib\n",
    "from datetime import date\n",
    "from sklearn.model_selection import train_test_split\n",
    "from sklearn.svm import SVC\n",
    "from xgboost import XGBClassifier\n",
    "from sklearn.linear_model import LogisticRegression\n",
    "import plotly.figure_factory as ff\n",
    "import plotly.graph_objs as go\n",
    "import plotly.offline as offline\n",
    "\n",
    "\n",
    "\n",
    "import holidays\n",
    "import datetime\n",
    "from io import StringIO\n",
    "from workalendar.europe import Belgium\n",
    "\n",
    "import warnings\n",
    "warnings.filterwarnings(\"ignore\")"
   ]
  },
  {
   "cell_type": "code",
   "execution_count": 136,
   "metadata": {},
   "outputs": [],
   "source": [
    "df = pd.read_csv(\"export jatin 0929.csv\", encoding = \"ISO-8859-1\")"
   ]
  },
  {
   "cell_type": "code",
   "execution_count": 137,
   "metadata": {},
   "outputs": [],
   "source": [
    "def holiday(rev):\n",
    "    \n",
    "    cal = Belgium()\n",
    "    holiday = cal.is_working_day(rev)\n",
    "    return holiday\n",
    "\n",
    "def VehicleType(column):\n",
    "    if column == 'SCOOTER':\n",
    "        return 'Scooter'\n",
    "    elif column == 'OKAI Kickscooter' or column == 'KICKSCOOTER':\n",
    "        return 'Kickscooter'\n",
    "    else:\n",
    "        return 'Car'\n",
    "    \n",
    "def CarGroup(column):\n",
    "    if column == 'IBIZA - All' or column == 'CORSA - Brussels':\n",
    "        return 'Combustion cars'\n",
    "    elif column == 'CITIGO - Antwerp' or column == 'MII - Antwerp' or column == 'G-TRON' or column == 'E-GOLF':       \n",
    "        return 'Evs'\n",
    "    else:\n",
    "        return 'Non-Cars'\n",
    "    \n",
    "def Assets(column):\n",
    "    if column == 'Scooter' or column == 'Kickscooter':\n",
    "        return 'Soft Assets'\n",
    "    else:        \n",
    "        return 'Cars'   \n",
    "    \n",
    "def ActualRide(column):\n",
    "    if column > 200:\n",
    "        return column\n",
    "    else:\n",
    "        return 'technical Issue' \n",
    "    \n",
    "def DistanceConverter(column):\n",
    "    if column < 4000:\n",
    "        return 1\n",
    "    else:\n",
    "        return 0"
   ]
  },
  {
   "cell_type": "code",
   "execution_count": 138,
   "metadata": {},
   "outputs": [],
   "source": [
    "df['inputDate'] = pd.to_datetime(df['start_date'])\n",
    "df['is working'] = df.inputDate.apply(holiday)"
   ]
  },
  {
   "cell_type": "code",
   "execution_count": 139,
   "metadata": {},
   "outputs": [],
   "source": [
    "df['Vehicle Type'] = df['name'].apply(VehicleType)\n",
    "df['Car Group'] = df['name'].apply(CarGroup)\n",
    "df['Assets'] = df['Vehicle Type'].apply(Assets)"
   ]
  },
  {
   "cell_type": "code",
   "execution_count": 140,
   "metadata": {},
   "outputs": [],
   "source": [
    "archieved = ['t']\n",
    "status = ['SUSPENDED']\n",
    "Cancelled_ride = ['t']\n",
    "\n",
    "df = df[~df['is_archived'].isin(archieved)]\n",
    "df = df[~df['account_status'].isin(status)]\n",
    "df = df[~df['is_cancel'].isin(Cancelled_ride)]"
   ]
  },
  {
   "cell_type": "code",
   "execution_count": 141,
   "metadata": {},
   "outputs": [],
   "source": [
    "df['distance'] = df['distance'].apply(ActualRide)\n",
    "false_ride = ['technical Issue']\n",
    "df = df[~df['distance'].isin(false_ride)]\n",
    "\n",
    "undefined_gender = ['UNDEFINED']\n",
    "df = df[~df['gender'].isin(undefined_gender)]"
   ]
  },
  {
   "cell_type": "code",
   "execution_count": 142,
   "metadata": {},
   "outputs": [],
   "source": [
    "dataset = pd.read_csv(\"test1.csv\", encoding = \"ISO-8859-1\")"
   ]
  },
  {
   "cell_type": "code",
   "execution_count": 143,
   "metadata": {},
   "outputs": [],
   "source": [
    "dataset['distance'] = dataset['distance'].apply(DistanceConverter)"
   ]
  },
  {
   "cell_type": "code",
   "execution_count": 144,
   "metadata": {},
   "outputs": [],
   "source": [
    "categorical_features = ['gender', 'vehicleModel', 'vehicleStatus','zone_start','is working']"
   ]
  },
  {
   "cell_type": "code",
   "execution_count": 145,
   "metadata": {},
   "outputs": [
    {
     "name": "stdout",
     "output_type": "stream",
     "text": [
      "<class 'pandas.core.frame.DataFrame'>\n",
      "RangeIndex: 146226 entries, 0 to 146225\n",
      "Data columns (total 24 columns):\n",
      "age                              146226 non-null int64\n",
      "duration_new                     146226 non-null int64\n",
      "distance                         146226 non-null int64\n",
      "zone_end                         146226 non-null object\n",
      "city[1]                          146226 non-null object\n",
      "Vehicle Type                     146226 non-null object\n",
      "Car Group                        146226 non-null object\n",
      "Assets                           146226 non-null object\n",
      "gender_FEMALE                    146226 non-null uint8\n",
      "gender_MALE                      146226 non-null uint8\n",
      "vehicleModel_CITIGO - Antwerp    146226 non-null uint8\n",
      "vehicleModel_CORSA - Brussels    146226 non-null uint8\n",
      "vehicleModel_IBIZA - All         146226 non-null uint8\n",
      "vehicleModel_MII - Antwerp       146226 non-null uint8\n",
      "vehicleModel_OKAI Kickscooter    146226 non-null uint8\n",
      "vehicleModel_SCOOTER             146226 non-null uint8\n",
      "vehicleStatus_available          146226 non-null uint8\n",
      "vehicleStatus_maintenance        146226 non-null uint8\n",
      "zone_start_Antwerp               146226 non-null uint8\n",
      "zone_start_Brussels              146226 non-null uint8\n",
      "zone_start_Charleroi             146226 non-null uint8\n",
      "zone_start_Zaventem              146226 non-null uint8\n",
      "is working_False                 146226 non-null uint8\n",
      "is working_True                  146226 non-null uint8\n",
      "dtypes: int64(3), object(5), uint8(16)\n",
      "memory usage: 11.2+ MB\n",
      "None\n",
      "   age  duration_new  distance  zone_end   city[1] Vehicle Type Car Group  \\\n",
      "0   27          1069         0  Brussels  Brussels      Scooter  Non-Cars   \n",
      "1   30          1122         0  Brussels  Brussels      Scooter  Non-Cars   \n",
      "\n",
      "        Assets  gender_FEMALE  gender_MALE  ...  \\\n",
      "0  Soft Assets              0            1  ...   \n",
      "1  Soft Assets              0            1  ...   \n",
      "\n",
      "   vehicleModel_OKAI Kickscooter  vehicleModel_SCOOTER  \\\n",
      "0                              0                     1   \n",
      "1                              0                     1   \n",
      "\n",
      "   vehicleStatus_available  vehicleStatus_maintenance  zone_start_Antwerp  \\\n",
      "0                        0                          1                   0   \n",
      "1                        0                          1                   0   \n",
      "\n",
      "   zone_start_Brussels  zone_start_Charleroi  zone_start_Zaventem  \\\n",
      "0                    1                     0                    0   \n",
      "1                    1                     0                    0   \n",
      "\n",
      "   is working_False  is working_True  \n",
      "0                 0                1  \n",
      "1                 0                1  \n",
      "\n",
      "[2 rows x 24 columns]\n"
     ]
    }
   ],
   "source": [
    "final_data = pd.get_dummies(dataset, columns = categorical_features)\n",
    "print(final_data.info())\n",
    "print(final_data.head(2))"
   ]
  },
  {
   "cell_type": "code",
   "execution_count": 146,
   "metadata": {},
   "outputs": [
    {
     "data": {
      "text/plain": [
       "'corrheatmap.html'"
      ]
     },
     "execution_count": 146,
     "metadata": {},
     "output_type": "execute_result"
    }
   ],
   "source": [
    "corrs = final_data.corr()\n",
    "figure = ff.create_annotated_heatmap(\n",
    "    z=corrs.values,\n",
    "    x=list(corrs.columns),\n",
    "    y=list(corrs.index),\n",
    "    annotation_text=corrs.round(2).values,\n",
    "    showscale=True)\n",
    "offline.plot(figure,filename='corrheatmap.html')"
   ]
  },
  {
   "cell_type": "code",
   "execution_count": 147,
   "metadata": {},
   "outputs": [],
   "source": [
    "X = final_data.drop(['distance','Assets','Vehicle Type','Car Group','city[1]','zone_end'],axis = 1)"
   ]
  },
  {
   "cell_type": "code",
   "execution_count": 148,
   "metadata": {},
   "outputs": [
    {
     "name": "stdout",
     "output_type": "stream",
     "text": [
      "<class 'pandas.core.frame.DataFrame'>\n",
      "<class 'pandas.core.series.Series'>\n",
      "(146226, 18)\n",
      "(146226,)\n"
     ]
    }
   ],
   "source": [
    "Y = final_data['distance'] # Labels\n",
    "print(type(X))\n",
    "print(type(Y))\n",
    "print(X.shape)\n",
    "print(Y.shape)"
   ]
  },
  {
   "cell_type": "code",
   "execution_count": 149,
   "metadata": {},
   "outputs": [
    {
     "name": "stdout",
     "output_type": "stream",
     "text": [
      "<class 'pandas.core.frame.DataFrame'>\n",
      "RangeIndex: 146226 entries, 0 to 146225\n",
      "Data columns (total 18 columns):\n",
      "age                              146226 non-null int64\n",
      "duration_new                     146226 non-null int64\n",
      "gender_FEMALE                    146226 non-null uint8\n",
      "gender_MALE                      146226 non-null uint8\n",
      "vehicleModel_CITIGO - Antwerp    146226 non-null uint8\n",
      "vehicleModel_CORSA - Brussels    146226 non-null uint8\n",
      "vehicleModel_IBIZA - All         146226 non-null uint8\n",
      "vehicleModel_MII - Antwerp       146226 non-null uint8\n",
      "vehicleModel_OKAI Kickscooter    146226 non-null uint8\n",
      "vehicleModel_SCOOTER             146226 non-null uint8\n",
      "vehicleStatus_available          146226 non-null uint8\n",
      "vehicleStatus_maintenance        146226 non-null uint8\n",
      "zone_start_Antwerp               146226 non-null uint8\n",
      "zone_start_Brussels              146226 non-null uint8\n",
      "zone_start_Charleroi             146226 non-null uint8\n",
      "zone_start_Zaventem              146226 non-null uint8\n",
      "is working_False                 146226 non-null uint8\n",
      "is working_True                  146226 non-null uint8\n",
      "dtypes: int64(2), uint8(16)\n",
      "memory usage: 4.5 MB\n",
      "None\n"
     ]
    }
   ],
   "source": [
    "print(X.info())"
   ]
  },
  {
   "cell_type": "code",
   "execution_count": 150,
   "metadata": {},
   "outputs": [
    {
     "name": "stdout",
     "output_type": "stream",
     "text": [
      "(102358, 18)\n",
      "(43868, 18)\n"
     ]
    }
   ],
   "source": [
    "feature_scaler = StandardScaler()\n",
    "X_scaled = feature_scaler.fit_transform(X)\n",
    "\n",
    "# Dividing dataset into training and test sets\n",
    "X_train, X_test, Y_train, Y_test = train_test_split( X_scaled, Y, test_size = 0.3, random_state = 100)\n",
    "\n",
    "print(X_train.shape)\n",
    "print(X_test.shape)"
   ]
  },
  {
   "cell_type": "code",
   "execution_count": 151,
   "metadata": {},
   "outputs": [
    {
     "data": {
      "text/plain": [
       "<matplotlib.axes._subplots.AxesSubplot at 0x18c9b0537b8>"
      ]
     },
     "execution_count": 151,
     "metadata": {},
     "output_type": "execute_result"
    },
    {
     "data": {
      "image/png": "[encoded data removed]",
      "text/plain": [
       "<Figure size 504x216 with 1 Axes>"
      ]
     },
     "metadata": {
      "needs_background": "light"
     },
     "output_type": "display_data"
    }
   ],
   "source": [
    "f, ax = plt.subplots(figsize=(7, 3))\n",
    "sns.countplot(y=\"distance\", data=final_data, color=\"c\")"
   ]
  },
  {
   "cell_type": "code",
   "execution_count": 152,
   "metadata": {},
   "outputs": [
    {
     "name": "stdout",
     "output_type": "stream",
     "text": [
      "Number of observations in each class before oversampling (training data): \n",
      " 0    61453\n",
      "1    40905\n",
      "Name: distance, dtype: int64\n"
     ]
    }
   ],
   "source": [
    "print(\"Number of observations in each class before oversampling (training data): \\n\", pd.Series(Y_train).value_counts())"
   ]
  },
  {
   "cell_type": "code",
   "execution_count": 153,
   "metadata": {},
   "outputs": [
    {
     "name": "stdout",
     "output_type": "stream",
     "text": [
      "Number of observations in each class after oversampling (training data): \n",
      " 1    61453\n",
      "0    61453\n",
      "Name: distance, dtype: int64\n"
     ]
    }
   ],
   "source": [
    "smote = SMOTE(random_state = 101)\n",
    "X_train,Y_train = smote.fit_sample(X_train,Y_train)\n",
    "\n",
    "print(\"Number of observations in each class after oversampling (training data): \\n\", pd.Series(Y_train).value_counts())"
   ]
  },
  {
   "cell_type": "code",
   "execution_count": 301,
   "metadata": {},
   "outputs": [
    {
     "name": "stdout",
     "output_type": "stream",
     "text": [
      "{'n_estimators': 600}\n",
      "0.8592204238548188\n"
     ]
    }
   ],
   "source": [
    "# Tuning the random forest parameter 'n_estimators' and implementing cross-validation using Grid Search\n",
    "rfc = RandomForestClassifier(criterion='entropy', max_features='auto', random_state=1)\n",
    "grid_param = {'n_estimators': [550,600,650,700]}\n",
    "\n",
    "gd_sr = GridSearchCV(estimator=rfc, param_grid=grid_param, scoring='recall', cv=5)\n",
    "\n",
    "\"\"\"\n",
    "In the above GridSearchCV(), scoring parameter should be set as follows:\n",
    "scoring = 'accuracy' when you want to maximize prediction accuracy\n",
    "scoring = 'recall' when you want to minimize false negatives\n",
    "scoring = 'precision' when you want to minimize false positives\n",
    "scoring = 'f1' when you want to balance false positives and false negatives (place equal emphasis on minimizing both)\n",
    "\"\"\"\n",
    "\n",
    "gd_sr.fit(X_train, Y_train)\n",
    "\n",
    "best_parameters = gd_sr.best_params_\n",
    "print(best_parameters)\n",
    "\n",
    "best_result = gd_sr.best_score_ # Mean cross-validated score of the best_estimator\n",
    "print(best_result)"
   ]
  },
  {
   "cell_type": "code",
   "execution_count": 123,
   "metadata": {},
   "outputs": [
    {
     "name": "stdout",
     "output_type": "stream",
     "text": [
      "duration_new                     0.797510\n",
      "age                              0.119573\n",
      "vehicleModel_OKAI Kickscooter    0.023530\n",
      "vehicleModel_SCOOTER             0.020224\n",
      "vehicleModel_IBIZA - All         0.010342\n",
      "vehicleModel_CORSA - Brussels    0.007781\n",
      "vehicleModel_MII - Antwerp       0.004055\n",
      "vehicleModel_CITIGO - Antwerp    0.002901\n",
      "zone_start_Antwerp               0.002441\n",
      "zone_start_Brussels              0.002112\n",
      "is working_True                  0.001557\n",
      "gender_FEMALE                    0.001527\n",
      "is working_False                 0.001510\n",
      "gender_MALE                      0.001508\n",
      "vehicleStatus_maintenance        0.001150\n",
      "vehicleStatus_available          0.001143\n",
      "zone_start_Zaventem              0.001023\n",
      "zone_start_Charleroi             0.000114\n",
      "dtype: float64\n",
      "Classification report: \n",
      "               precision    recall  f1-score   support\n",
      "\n",
      "           0       0.88      0.87      0.87     26479\n",
      "           1       0.80      0.82      0.81     17389\n",
      "\n",
      "    accuracy                           0.85     43868\n",
      "   macro avg       0.84      0.84      0.84     43868\n",
      "weighted avg       0.85      0.85      0.85     43868\n",
      "\n"
     ]
    },
    {
     "data": {
      "image/png": "[encoded data removed]",
      "text/plain": [
       "<Figure size 576x432 with 2 Axes>"
      ]
     },
     "metadata": {
      "needs_background": "light"
     },
     "output_type": "display_data"
    },
    {
     "name": "stdout",
     "output_type": "stream",
     "text": [
      "Confusion matrix: \n",
      " [[22963  3516]\n",
      " [ 3133 14256]]\n",
      "TP:  14256\n",
      "TN:  22963\n",
      "FP:  3516\n",
      "FN:  3133\n"
     ]
    }
   ],
   "source": [
    "rfc = RandomForestClassifier(n_estimators=600, criterion='entropy', max_features='auto', random_state=1)\n",
    "rfc.fit(X_train,Y_train)\n",
    "featimp = pd.Series(rfc.feature_importances_, index=list(X)).sort_values(ascending=False)\n",
    "print(featimp)\n",
    "\n",
    "Y_pred = rfc.predict(X_test)\n",
    "print('Classification report: \\n', metrics.classification_report(Y_test, Y_pred))\n",
    "\n",
    "conf_mat = metrics.confusion_matrix(Y_test, Y_pred)\n",
    "plt.figure(figsize=(8,6))\n",
    "sns.heatmap(conf_mat,annot=True)\n",
    "plt.title(\"Confusion_matrix\")\n",
    "plt.xlabel(\"Predicted Class\")\n",
    "plt.ylabel(\"Actual class\")\n",
    "plt.show()\n",
    "print('Confusion matrix: \\n', conf_mat)\n",
    "print('TP: ', conf_mat[1,1])\n",
    "print('TN: ', conf_mat[0,0])\n",
    "print('FP: ', conf_mat[0,1])\n",
    "print('FN: ', conf_mat[1,0])"
   ]
  },
  {
   "cell_type": "code",
   "execution_count": 126,
   "metadata": {},
   "outputs": [
    {
     "name": "stdout",
     "output_type": "stream",
     "text": [
      "Classification report: \n",
      "               precision    recall  f1-score   support\n",
      "\n",
      "           0       0.88      0.87      0.87     26479\n",
      "           1       0.80      0.82      0.81     17389\n",
      "\n",
      "    accuracy                           0.85     43868\n",
      "   macro avg       0.84      0.84      0.84     43868\n",
      "weighted avg       0.85      0.85      0.85     43868\n",
      "\n"
     ]
    },
    {
     "data": {
      "image/png": "[encoded data removed]",
      "text/plain": [
       "<Figure size 576x432 with 2 Axes>"
      ]
     },
     "metadata": {
      "needs_background": "light"
     },
     "output_type": "display_data"
    },
    {
     "name": "stdout",
     "output_type": "stream",
     "text": [
      "Confusion matrix: \n",
      " [[22984  3495]\n",
      " [ 3132 14257]]\n",
      "TP:  14257\n",
      "TN:  22984\n",
      "FP:  3495\n",
      "FN:  3132\n"
     ]
    }
   ],
   "source": [
    "X1 = final_data[['duration_new', 'age', 'vehicleModel_OKAI Kickscooter', 'vehicleModel_SCOOTER', 'vehicleModel_IBIZA - All','vehicleModel_CORSA - Brussels','vehicleModel_MII - Antwerp','vehicleModel_CITIGO - Antwerp','zone_start_Antwerp','zone_start_Brussels','is working_True','is working_False','gender_FEMALE','gender_MALE','vehicleStatus_available','vehicleStatus_maintenance']]\n",
    "\n",
    "feature_scaler = StandardScaler()\n",
    "X1_scaled = feature_scaler.fit_transform(X1)\n",
    "\n",
    "X1_train, X1_test, Y1_train, Y1_test = train_test_split( X1_scaled, Y, test_size = 0.3, random_state = 100)\n",
    "\n",
    "smote = SMOTE(random_state = 101)\n",
    "X1_train,Y1_train = smote.fit_sample(X1_train,Y1_train)\n",
    "\n",
    "rfc = RandomForestClassifier(n_estimators=400, criterion='entropy', max_features='auto', random_state=1)\n",
    "rfc.fit(X1_train,Y1_train)\n",
    "\n",
    "Y_pred = rfc.predict(X1_test)\n",
    "print('Classification report: \\n', metrics.classification_report(Y1_test, Y_pred))\n",
    "\n",
    "conf_mat = metrics.confusion_matrix(Y1_test, Y_pred)\n",
    "plt.figure(figsize=(8,6))\n",
    "sns.heatmap(conf_mat,annot=True)\n",
    "plt.title(\"Confusion_matrix\")\n",
    "plt.xlabel(\"Predicted Class\")\n",
    "plt.ylabel(\"Actual class\")\n",
    "plt.show()\n",
    "print('Confusion matrix: \\n', conf_mat)\n",
    "print('TP: ', conf_mat[1,1])\n",
    "print('TN: ', conf_mat[0,0])\n",
    "print('FP: ', conf_mat[0,1])\n",
    "print('FN: ', conf_mat[1,0])"
   ]
  },
  {
   "cell_type": "code",
   "execution_count": 27,
   "metadata": {},
   "outputs": [
    {
     "name": "stdout",
     "output_type": "stream",
     "text": [
      "{'n_estimators': 6}\n",
      "0.852738245679482\n"
     ]
    }
   ],
   "source": [
    "abc = AdaBoostClassifier(random_state=1)\n",
    "grid_param = {'n_estimators': [5,6,7,8,9,10,11]}\n",
    "\n",
    "gd_sr = GridSearchCV(estimator=abc, param_grid=grid_param, scoring='recall', cv=5)\n",
    "\n",
    "\"\"\"\n",
    "In the above GridSearchCV(), scoring parameter should be set as follows:\n",
    "scoring = 'accuracy' when you want to maximize prediction accuracy\n",
    "scoring = 'recall' when you want to minimize false negatives\n",
    "scoring = 'precision' when you want to minimize false positives\n",
    "scoring = 'f1' when you want to balance false positives and false negatives (place equal emphasis on minimizing both)\n",
    "\"\"\"\n",
    "\n",
    "gd_sr.fit(X_train, Y_train)\n",
    "\n",
    "best_parameters = gd_sr.best_params_\n",
    "print(best_parameters)\n",
    "\n",
    "best_result = gd_sr.best_score_ # Mean cross-validated score of the best_estimator\n",
    "print(best_result)"
   ]
  },
  {
   "cell_type": "code",
   "execution_count": 127,
   "metadata": {},
   "outputs": [
    {
     "name": "stdout",
     "output_type": "stream",
     "text": [
      "duration_new                     0.833333\n",
      "vehicleModel_OKAI Kickscooter    0.166667\n",
      "is working_False                 0.000000\n",
      "gender_FEMALE                    0.000000\n",
      "gender_MALE                      0.000000\n",
      "vehicleModel_CITIGO - Antwerp    0.000000\n",
      "vehicleModel_CORSA - Brussels    0.000000\n",
      "vehicleModel_IBIZA - All         0.000000\n",
      "vehicleModel_MII - Antwerp       0.000000\n",
      "is working_True                  0.000000\n",
      "vehicleModel_SCOOTER             0.000000\n",
      "vehicleStatus_available          0.000000\n",
      "vehicleStatus_maintenance        0.000000\n",
      "zone_start_Antwerp               0.000000\n",
      "zone_start_Brussels              0.000000\n",
      "zone_start_Charleroi             0.000000\n",
      "zone_start_Zaventem              0.000000\n",
      "age                              0.000000\n",
      "dtype: float64\n",
      "Classification report: \n",
      "               precision    recall  f1-score   support\n",
      "\n",
      "           0       0.90      0.89      0.90     26479\n",
      "           1       0.84      0.84      0.84     17389\n",
      "\n",
      "    accuracy                           0.87     43868\n",
      "   macro avg       0.87      0.87      0.87     43868\n",
      "weighted avg       0.87      0.87      0.87     43868\n",
      "\n"
     ]
    },
    {
     "data": {
      "image/png": "[encoded data removed]",
      "text/plain": [
       "<Figure size 576x432 with 2 Axes>"
      ]
     },
     "metadata": {
      "needs_background": "light"
     },
     "output_type": "display_data"
    },
    {
     "name": "stdout",
     "output_type": "stream",
     "text": [
      "Confusion matrix: \n",
      " [[23676  2803]\n",
      " [ 2739 14650]]\n",
      "TP:  14650\n",
      "TN:  23676\n",
      "FP:  2803\n",
      "FN:  2739\n"
     ]
    }
   ],
   "source": [
    "abc = AdaBoostClassifier(n_estimators=6, random_state=1)\n",
    "abc.fit(X_train,Y_train)\n",
    "featimp = pd.Series(abc.feature_importances_, index=list(X)).sort_values(ascending=False)\n",
    "print(featimp)\n",
    "\n",
    "Y_pred = abc.predict(X_test)\n",
    "print('Classification report: \\n', metrics.classification_report(Y_test, Y_pred))\n",
    "\n",
    "conf_mat = metrics.confusion_matrix(Y_test, Y_pred)\n",
    "plt.figure(figsize=(8,6))\n",
    "sns.heatmap(conf_mat,annot=True)\n",
    "plt.title(\"Confusion_matrix\")\n",
    "plt.xlabel(\"Predicted Class\")\n",
    "plt.ylabel(\"Actual class\")\n",
    "plt.show()\n",
    "print('Confusion matrix: \\n', conf_mat)\n",
    "print('TP: ', conf_mat[1,1])\n",
    "print('TN: ', conf_mat[0,0])\n",
    "print('FP: ', conf_mat[0,1])\n",
    "print('FN: ', conf_mat[1,0])"
   ]
  },
  {
   "cell_type": "code",
   "execution_count": 154,
   "metadata": {},
   "outputs": [
    {
     "name": "stdout",
     "output_type": "stream",
     "text": [
      "{'max_depth': 12, 'max_leaf_nodes': 32, 'n_estimators': 50}\n",
      "0.8532376842846568\n"
     ]
    }
   ],
   "source": [
    "gbc = GradientBoostingClassifier(random_state=1)\n",
    "\n",
    "grid_param = {'n_estimators': [30,40,50,60], 'max_depth' : [9,10,11,12], 'max_leaf_nodes': [24,28,32]}\n",
    "\n",
    "gd_sr = GridSearchCV(estimator=gbc, param_grid=grid_param, scoring='recall', cv=5)\n",
    "\n",
    "\"\"\"\n",
    "In the above GridSearchCV(), scoring parameter should be set as follows:\n",
    "scoring = 'accuracy' when you want to maximize prediction accuracy\n",
    "scoring = 'recall' when you want to minimize false negatives\n",
    "scoring = 'precision' when you want to minimize false positives\n",
    "scoring = 'f1' when you want to balance false positives and false negatives (place equal emphasis on minimizing both)\n",
    "\"\"\"\n",
    "\n",
    "gd_sr.fit(X_train, Y_train)\n",
    "\n",
    "best_parameters = gd_sr.best_params_\n",
    "print(best_parameters)\n",
    "\n",
    "best_result = gd_sr.best_score_ # Mean cross-validated score of the best_estimator\n",
    "print(best_result)"
   ]
  },
  {
   "cell_type": "code",
   "execution_count": 129,
   "metadata": {
    "scrolled": true
   },
   "outputs": [
    {
     "name": "stdout",
     "output_type": "stream",
     "text": [
      "duration_new                     0.970626\n",
      "vehicleModel_OKAI Kickscooter    0.007974\n",
      "age                              0.006704\n",
      "zone_start_Brussels              0.003178\n",
      "vehicleModel_MII - Antwerp       0.002443\n",
      "vehicleModel_SCOOTER             0.002247\n",
      "vehicleModel_CITIGO - Antwerp    0.001867\n",
      "gender_MALE                      0.001746\n",
      "gender_FEMALE                    0.001440\n",
      "vehicleModel_CORSA - Brussels    0.000575\n",
      "zone_start_Zaventem              0.000316\n",
      "vehicleModel_IBIZA - All         0.000314\n",
      "is working_False                 0.000194\n",
      "is working_True                  0.000185\n",
      "zone_start_Antwerp               0.000144\n",
      "zone_start_Charleroi             0.000033\n",
      "vehicleStatus_available          0.000016\n",
      "vehicleStatus_maintenance        0.000000\n",
      "dtype: float64\n",
      "Classification report: \n",
      "               precision    recall  f1-score   support\n",
      "\n",
      "           0       0.90      0.90      0.90     26479\n",
      "           1       0.85      0.85      0.85     17389\n",
      "\n",
      "    accuracy                           0.88     43868\n",
      "   macro avg       0.87      0.87      0.87     43868\n",
      "weighted avg       0.88      0.88      0.88     43868\n",
      "\n"
     ]
    },
    {
     "data": {
      "image/png": "[encoded data removed]",
      "text/plain": [
       "<Figure size 576x432 with 2 Axes>"
      ]
     },
     "metadata": {
      "needs_background": "light"
     },
     "output_type": "display_data"
    },
    {
     "name": "stdout",
     "output_type": "stream",
     "text": [
      "Confusion matrix: \n",
      " [[23775  2704]\n",
      " [ 2636 14753]]\n",
      "TP:  14753\n",
      "TN:  23775\n",
      "FP:  2704\n",
      "FN:  2636\n"
     ]
    }
   ],
   "source": [
    "gbc = GradientBoostingClassifier(n_estimators=50, max_depth=11, max_leaf_nodes=24, random_state=1)\n",
    "gbc.fit(X_train,Y_train)\n",
    "featimp = pd.Series(gbc.feature_importances_, index=list(X)).sort_values(ascending=False)\n",
    "print(featimp)\n",
    "\n",
    "Y_pred = gbc.predict(X_test)\n",
    "print('Classification report: \\n', metrics.classification_report(Y_test, Y_pred))\n",
    "\n",
    "conf_mat = metrics.confusion_matrix(Y_test, Y_pred)\n",
    "plt.figure(figsize=(8,6))\n",
    "sns.heatmap(conf_mat,annot=True)\n",
    "plt.title(\"Confusion_matrix\")\n",
    "plt.xlabel(\"Predicted Class\")\n",
    "plt.ylabel(\"Actual class\")\n",
    "plt.show()\n",
    "print('Confusion matrix: \\n', conf_mat)\n",
    "print('TP: ', conf_mat[1,1])\n",
    "print('TN: ', conf_mat[0,0])\n",
    "print('FP: ', conf_mat[0,1])\n",
    "print('FN: ', conf_mat[1,0])"
   ]
  },
  {
   "cell_type": "code",
   "execution_count": null,
   "metadata": {},
   "outputs": [],
   "source": [
    "grid_predictions = grid.predict(X_test) \n",
    "  \n",
    "# print classification report \n",
    "print(classification_report(y_test, grid_predictions))\n"
   ]
  },
  {
   "cell_type": "code",
   "execution_count": 16,
   "metadata": {},
   "outputs": [
    {
     "name": "stdout",
     "output_type": "stream",
     "text": [
      "Collecting xgboost\n",
      "  Downloading https://files.pythonhosted.org/packages/63/85/15ec7550b867a745f2e4fc929c72f053feb620b2d2117ab344afbfa5a53b/xgboost-1.3.0.post0-py3-none-win_amd64.whl (95.2MB)\n",
      "Requirement already satisfied: numpy in c:\\users\\vinee\\anaconda3\\lib\\site-packages (from xgboost) (1.16.4)\n",
      "Requirement already satisfied: scipy in c:\\users\\vinee\\anaconda3\\lib\\site-packages (from xgboost) (1.2.1)\n",
      "Installing collected packages: xgboost\n",
      "Successfully installed xgboost-1.3.0.post0\n",
      "Note: you may need to restart the kernel to use updated packages.\n"
     ]
    }
   ],
   "source": [
    "pip install xgboost"
   ]
  },
  {
   "cell_type": "code",
   "execution_count": 17,
   "metadata": {},
   "outputs": [
    {
     "name": "stdout",
     "output_type": "stream",
     "text": [
      "Requirement already up-to-date: xgboost in c:\\users\\vinee\\anaconda3\\lib\\site-packages (1.3.0.post0)\n",
      "Requirement already satisfied, skipping upgrade: scipy in c:\\users\\vinee\\anaconda3\\lib\\site-packages (from xgboost) (1.2.1)\n",
      "Requirement already satisfied, skipping upgrade: numpy in c:\\users\\vinee\\anaconda3\\lib\\site-packages (from xgboost) (1.16.4)\n",
      "Note: you may need to restart the kernel to use updated packages.\n"
     ]
    }
   ],
   "source": [
    "pip install --upgrade xgboost"
   ]
  },
  {
   "cell_type": "code",
   "execution_count": 19,
   "metadata": {},
   "outputs": [
    {
     "name": "stdout",
     "output_type": "stream",
     "text": [
      "Fitting 5 folds for each of 288 candidates, totalling 1440 fits\n"
     ]
    },
    {
     "name": "stderr",
     "output_type": "stream",
     "text": [
      "[Parallel(n_jobs=-1)]: Using backend LokyBackend with 4 concurrent workers.\n",
      "[Parallel(n_jobs=-1)]: Done  42 tasks      | elapsed:  5.1min\n",
      "[Parallel(n_jobs=-1)]: Done 192 tasks      | elapsed: 37.4min\n",
      "[Parallel(n_jobs=-1)]: Done 442 tasks      | elapsed: 96.0min\n",
      "[Parallel(n_jobs=-1)]: Done 792 tasks      | elapsed: 166.1min\n",
      "[Parallel(n_jobs=-1)]: Done 1242 tasks      | elapsed: 267.7min\n",
      "[Parallel(n_jobs=-1)]: Done 1440 out of 1440 | elapsed: 328.1min finished\n"
     ]
    },
    {
     "name": "stdout",
     "output_type": "stream",
     "text": [
      "[04:19:19] WARNING: C:/Users/Administrator/workspace/xgboost-win64_release_1.3.0/src/learner.cc:1061: Starting in XGBoost 1.3.0, the default evaluation metric used with the objective 'binary:logistic' was changed from 'error' to 'logloss'. Explicitly set eval_metric if you'd like to restore the old behavior.\n",
      "{'colsample_bytree': 0.7, 'learning_rate': 0.1, 'max_depth': 10, 'min_child_weight': 5, 'n_estimators': 100, 'objective': 'binary:logistic', 'subsample': 0.5}\n",
      "0.8597562460847257\n"
     ]
    }
   ],
   "source": [
    "param_tuning = {\n",
    "        'learning_rate': [0.01, 0.1],\n",
    "        'max_depth': [3, 5, 7, 10],\n",
    "        'min_child_weight': [1, 3, 5],\n",
    "        'subsample': [0.5, 0.7],\n",
    "        'colsample_bytree': [0.5, 0.7],\n",
    "        'n_estimators' : [100, 200, 500],\n",
    "        'objective': ['binary:logistic']\n",
    "    }\n",
    "\n",
    "xgb_model = XGBClassifier()\n",
    "\n",
    "gsearch = GridSearchCV(estimator = xgb_model,\n",
    "                           param_grid = param_tuning,                        \n",
    "                           scoring='recall',\n",
    "                           cv = 5,\n",
    "                           n_jobs = -1,\n",
    "                           verbose = 1)\n",
    "\n",
    "gsearch.fit(X_train, Y_train)\n",
    "\n",
    "best_parameters = gsearch.best_params_\n",
    "print(best_parameters)\n",
    "\n",
    "best_result = gsearch.best_score_ # Mean cross-validated score of the best_estimator\n",
    "print(best_result)"
   ]
  },
  {
   "cell_type": "code",
   "execution_count": 130,
   "metadata": {},
   "outputs": [
    {
     "name": "stdout",
     "output_type": "stream",
     "text": [
      "[12:31:37] WARNING: C:/Users/Administrator/workspace/xgboost-win64_release_1.3.0/src/learner.cc:1061: Starting in XGBoost 1.3.0, the default evaluation metric used with the objective 'binary:logistic' was changed from 'error' to 'logloss'. Explicitly set eval_metric if you'd like to restore the old behavior.\n",
      "vehicleModel_OKAI Kickscooter    0.238890\n",
      "duration_new                     0.196603\n",
      "zone_start_Zaventem              0.104946\n",
      "vehicleModel_CORSA - Brussels    0.092223\n",
      "vehicleModel_CITIGO - Antwerp    0.066534\n",
      "vehicleModel_SCOOTER             0.053066\n",
      "vehicleModel_IBIZA - All         0.050434\n",
      "vehicleModel_MII - Antwerp       0.049568\n",
      "zone_start_Charleroi             0.032488\n",
      "zone_start_Brussels              0.018366\n",
      "gender_MALE                      0.015154\n",
      "age                              0.014077\n",
      "zone_start_Antwerp               0.013767\n",
      "gender_FEMALE                    0.013740\n",
      "is working_False                 0.010502\n",
      "is working_True                  0.010086\n",
      "vehicleStatus_available          0.009787\n",
      "vehicleStatus_maintenance        0.009770\n",
      "dtype: float32\n",
      "Classification report: \n",
      "               precision    recall  f1-score   support\n",
      "\n",
      "           0       0.90      0.90      0.90     26479\n",
      "           1       0.85      0.85      0.85     17389\n",
      "\n",
      "    accuracy                           0.88     43868\n",
      "   macro avg       0.87      0.87      0.87     43868\n",
      "weighted avg       0.88      0.88      0.88     43868\n",
      "\n"
     ]
    },
    {
     "data": {
      "image/png": "[encoded data removed]",
      "text/plain": [
       "<Figure size 576x432 with 2 Axes>"
      ]
     },
     "metadata": {
      "needs_background": "light"
     },
     "output_type": "display_data"
    },
    {
     "name": "stdout",
     "output_type": "stream",
     "text": [
      "Confusion matrix: \n",
      " [[23823  2656]\n",
      " [ 2681 14708]]\n",
      "TP:  14708\n",
      "TN:  23823\n",
      "FP:  2656\n",
      "FN:  2681\n"
     ]
    }
   ],
   "source": [
    "xgb = XGBClassifier(n_estimators=100, colsample_bytree=0.7, learning_rate=0.1, max_depth = 10, min_child_weight = 5, objective = 'binary:logistic', subsample = 0.5,random_state=1)\n",
    "xgb.fit(X_train,Y_train)\n",
    "featimp = pd.Series(xgb.feature_importances_, index=list(X)).sort_values(ascending=False)\n",
    "print(featimp)\n",
    "\n",
    "Y_pred = xgb.predict(X_test)\n",
    "print('Classification report: \\n', metrics.classification_report(Y_test, Y_pred))\n",
    "\n",
    "conf_mat = metrics.confusion_matrix(Y_test, Y_pred)\n",
    "plt.figure(figsize=(8,6))\n",
    "sns.heatmap(conf_mat,annot=True)\n",
    "plt.title(\"Confusion_matrix\")\n",
    "plt.xlabel(\"Predicted Class\")\n",
    "plt.ylabel(\"Actual class\")\n",
    "plt.show()\n",
    "print('Confusion matrix: \\n', conf_mat)\n",
    "print('TP: ', conf_mat[1,1])\n",
    "print('TN: ', conf_mat[0,0])\n",
    "print('FP: ', conf_mat[0,1])\n",
    "print('FN: ', conf_mat[1,0])"
   ]
  },
  {
   "cell_type": "code",
   "execution_count": 16,
   "metadata": {},
   "outputs": [
    {
     "name": "stdout",
     "output_type": "stream",
     "text": [
      "{'lambda_l1': 0, 'lambda_l2': 1, 'min_data_in_leaf': 400, 'num_leaves': 200, 'reg_alpha': 0}\n",
      "0.8598049513187809\n"
     ]
    }
   ],
   "source": [
    "\n",
    "\n",
    "lgbm = LGBMClassifier(random_state=1)\n",
    "\n",
    "grid_param = {'num_leaves': [127,200],\n",
    "    'reg_alpha': [0, 0.1, 0.5],\n",
    "    'min_data_in_leaf': [300, 400,450,500],\n",
    "    'lambda_l1': [0, 1, 1.5],\n",
    "    'lambda_l2': [0, 1]}\n",
    "\n",
    "gd_sr = GridSearchCV(estimator=lgbm, param_grid=grid_param, scoring='recall', cv=5)\n",
    "\n",
    "\"\"\"\n",
    "In the above GridSearchCV(), scoring parameter should be set as follows:\n",
    "scoring = 'accuracy' when you want to maximize prediction accuracy\n",
    "scoring = 'recall' when you want to minimize false negatives\n",
    "scoring = 'precision' when you want to minimize false positives\n",
    "scoring = 'f1' when you want to balance false positives and false negatives (place equal emphasis on minimizing both)\n",
    "\"\"\"\n",
    "\n",
    "gd_sr.fit(X_train, Y_train)\n",
    "\n",
    "best_parameters = gd_sr.best_params_\n",
    "print(best_parameters)\n",
    "\n",
    "best_result = gd_sr.best_score_ # Mean cross-validated score of the best_estimator\n",
    "print(best_result)"
   ]
  },
  {
   "cell_type": "code",
   "execution_count": 131,
   "metadata": {},
   "outputs": [
    {
     "name": "stdout",
     "output_type": "stream",
     "text": [
      "[LightGBM] [Warning] min_data_in_leaf is set=400, min_child_samples=20 will be ignored. Current value: min_data_in_leaf=400\n",
      "[LightGBM] [Warning] lambda_l1 is set=0, reg_alpha=0 will be ignored. Current value: lambda_l1=0\n",
      "[LightGBM] [Warning] lambda_l2 is set=1, reg_lambda=0.0 will be ignored. Current value: lambda_l2=1\n",
      "age                              6841\n",
      "duration_new                     6555\n",
      "vehicleModel_SCOOTER              598\n",
      "zone_start_Brussels               500\n",
      "is working_True                   486\n",
      "vehicleModel_IBIZA - All          469\n",
      "gender_FEMALE                     434\n",
      "zone_start_Antwerp                347\n",
      "vehicleModel_OKAI Kickscooter     300\n",
      "vehicleModel_MII - Antwerp        287\n",
      "vehicleModel_CORSA - Brussels     284\n",
      "vehicleModel_CITIGO - Antwerp     194\n",
      "vehicleStatus_available           159\n",
      "gender_MALE                        36\n",
      "vehicleStatus_maintenance           7\n",
      "zone_start_Charleroi                0\n",
      "is working_False                    0\n",
      "zone_start_Zaventem                 0\n",
      "dtype: int32\n",
      "Classification report: \n",
      "               precision    recall  f1-score   support\n",
      "\n",
      "           0       0.90      0.90      0.90     26479\n",
      "           1       0.85      0.85      0.85     17389\n",
      "\n",
      "    accuracy                           0.88     43868\n",
      "   macro avg       0.87      0.87      0.87     43868\n",
      "weighted avg       0.88      0.88      0.88     43868\n",
      "\n"
     ]
    },
    {
     "data": {
      "image/png": "[encoded data removed]",
      "text/plain": [
       "<Figure size 576x432 with 2 Axes>"
      ]
     },
     "metadata": {
      "needs_background": "light"
     },
     "output_type": "display_data"
    },
    {
     "name": "stdout",
     "output_type": "stream",
     "text": [
      "Confusion matrix: \n",
      " [[23807  2672]\n",
      " [ 2675 14714]]\n",
      "TP:  14714\n",
      "TN:  23807\n",
      "FP:  2672\n",
      "FN:  2675\n"
     ]
    }
   ],
   "source": [
    "lgbm = LGBMClassifier(lambda_l1=0, lambda_l2=1, learning_rate=0.1, min_data_in_leaf = 400, num_leaves = 200, reg_alpha = 0,random_state=1)\n",
    "lgbm.fit(X_train,Y_train)\n",
    "featimp = pd.Series(lgbm.feature_importances_, index=list(X)).sort_values(ascending=False)\n",
    "print(featimp)\n",
    "\n",
    "Y_pred = lgbm.predict(X_test)\n",
    "print('Classification report: \\n', metrics.classification_report(Y_test, Y_pred))\n",
    "\n",
    "conf_mat = metrics.confusion_matrix(Y_test, Y_pred)\n",
    "plt.figure(figsize=(8,6))\n",
    "sns.heatmap(conf_mat,annot=True)\n",
    "plt.title(\"Confusion_matrix\")\n",
    "plt.xlabel(\"Predicted Class\")\n",
    "plt.ylabel(\"Actual class\")\n",
    "plt.show()\n",
    "print('Confusion matrix: \\n', conf_mat)\n",
    "print('TP: ', conf_mat[1,1])\n",
    "print('TN: ', conf_mat[0,0])\n",
    "print('FP: ', conf_mat[0,1])\n",
    "print('FN: ', conf_mat[1,0])"
   ]
  },
  {
   "cell_type": "code",
   "execution_count": 21,
   "metadata": {},
   "outputs": [
    {
     "name": "stdout",
     "output_type": "stream",
     "text": [
      "{'C': 100.0, 'penalty': 'l2'}\n",
      "0.8759038230494725\n"
     ]
    }
   ],
   "source": [
    "\n",
    "\n",
    "logreg = LogisticRegression(random_state=1)\n",
    "\n",
    "grid_param = {\"C\":np.logspace(-3,3,7), \"penalty\":[\"l1\",\"l2\"]}\n",
    "\n",
    "gd_sr = GridSearchCV(estimator=logreg, param_grid=grid_param, scoring='recall', cv=5)\n",
    "\n",
    "\"\"\"\n",
    "In the above GridSearchCV(), scoring parameter should be set as follows:\n",
    "scoring = 'accuracy' when you want to maximize prediction accuracy\n",
    "scoring = 'recall' when you want to minimize false negatives\n",
    "scoring = 'precision' when you want to minimize false positives\n",
    "scoring = 'f1' when you want to balance false positives and false negatives (place equal emphasis on minimizing both)\n",
    "\"\"\"\n",
    "\n",
    "gd_sr.fit(X_train, Y_train)\n",
    "\n",
    "best_parameters = gd_sr.best_params_\n",
    "print(best_parameters)\n",
    "\n",
    "best_result = gd_sr.best_score_ # Mean cross-validated score of the best_estimator\n",
    "print(best_result)"
   ]
  },
  {
   "cell_type": "code",
   "execution_count": 132,
   "metadata": {},
   "outputs": [
    {
     "name": "stdout",
     "output_type": "stream",
     "text": [
      "Classification report: \n",
      "               precision    recall  f1-score   support\n",
      "\n",
      "           0       0.90      0.79      0.84     26479\n",
      "           1       0.73      0.86      0.79     17389\n",
      "\n",
      "    accuracy                           0.82     43868\n",
      "   macro avg       0.81      0.83      0.82     43868\n",
      "weighted avg       0.83      0.82      0.82     43868\n",
      "\n"
     ]
    },
    {
     "data": {
      "image/png": "[encoded data removed]",
      "text/plain": [
       "<Figure size 576x432 with 2 Axes>"
      ]
     },
     "metadata": {
      "needs_background": "light"
     },
     "output_type": "display_data"
    },
    {
     "name": "stdout",
     "output_type": "stream",
     "text": [
      "Confusion matrix: \n",
      " [[20899  5580]\n",
      " [ 2353 15036]]\n",
      "TP:  15036\n",
      "TN:  20899\n",
      "FP:  5580\n",
      "FN:  2353\n"
     ]
    }
   ],
   "source": [
    "logreg = LogisticRegression(C=100.0, penalty='l2',random_state=1)\n",
    "logreg.fit(X_train,Y_train)\n",
    "#featimp = pd.Series(logreg.feature_importances_, index=list(X)).sort_values(ascending=False)\n",
    "#print(featimp)\n",
    "\n",
    "\n",
    "\n",
    "Y_pred = logreg.predict(X_test)\n",
    "print('Classification report: \\n', metrics.classification_report(Y_test, Y_pred))\n",
    "\n",
    "conf_mat = metrics.confusion_matrix(Y_test, Y_pred)\n",
    "plt.figure(figsize=(8,6))\n",
    "sns.heatmap(conf_mat,annot=True)\n",
    "plt.title(\"Confusion_matrix\")\n",
    "plt.xlabel(\"Predicted Class\")\n",
    "plt.ylabel(\"Actual class\")\n",
    "plt.show()\n",
    "print('Confusion matrix: \\n', conf_mat)\n",
    "print('TP: ', conf_mat[1,1])\n",
    "print('TN: ', conf_mat[0,0])\n",
    "print('FP: ', conf_mat[0,1])\n",
    "print('FN: ', conf_mat[1,0])"
   ]
  },
  {
   "cell_type": "code",
   "execution_count": 133,
   "metadata": {},
   "outputs": [
    {
     "name": "stdout",
     "output_type": "stream",
     "text": [
      "Epoch 1/150\n",
      "12291/12291 [==============================] - 9s 768us/step - loss: 0.5581 - accuracy: 0.7758\n",
      "Epoch 2/150\n",
      "12291/12291 [==============================] - 9s 750us/step - loss: 0.5395 - accuracy: 0.8055\n",
      "Epoch 3/150\n",
      "12291/12291 [==============================] - 9s 751us/step - loss: 0.5382 - accuracy: 0.8187\n",
      "Epoch 4/150\n",
      "12291/12291 [==============================] - 9s 756us/step - loss: 0.5339 - accuracy: 0.8025\n",
      "Epoch 5/150\n",
      "12291/12291 [==============================] - 9s 765us/step - loss: 0.5392 - accuracy: 0.8208\n",
      "Epoch 6/150\n",
      "12291/12291 [==============================] - 9s 761us/step - loss: 0.5386 - accuracy: 0.8195\n",
      "Epoch 7/150\n",
      "12291/12291 [==============================] - 9s 756us/step - loss: 0.5382 - accuracy: 0.8153\n",
      "Epoch 8/150\n",
      "12291/12291 [==============================] - 9s 762us/step - loss: 0.5325 - accuracy: 0.8091\n",
      "Epoch 9/150\n",
      "12291/12291 [==============================] - 9s 755us/step - loss: 0.5378 - accuracy: 0.8181\n",
      "Epoch 10/150\n",
      "12291/12291 [==============================] - 9s 768us/step - loss: 0.5388 - accuracy: 0.8209\n",
      "Epoch 11/150\n",
      "12291/12291 [==============================] - 9s 759us/step - loss: 0.5373 - accuracy: 0.8234\n",
      "Epoch 12/150\n",
      "12291/12291 [==============================] - 9s 765us/step - loss: 0.5379 - accuracy: 0.8235\n",
      "Epoch 13/150\n",
      "12291/12291 [==============================] - 9s 758us/step - loss: 0.5356 - accuracy: 0.8222\n",
      "Epoch 14/150\n",
      "12291/12291 [==============================] - 9s 760us/step - loss: 0.5330 - accuracy: 0.8142\n",
      "Epoch 15/150\n",
      "12291/12291 [==============================] - 9s 763us/step - loss: 0.5388 - accuracy: 0.8293\n",
      "Epoch 16/150\n",
      "12291/12291 [==============================] - 9s 763us/step - loss: 0.5302 - accuracy: 0.8085\n",
      "Epoch 17/150\n",
      "12291/12291 [==============================] - 9s 761us/step - loss: 0.5373 - accuracy: 0.8236\n",
      "Epoch 18/150\n",
      "12291/12291 [==============================] - 9s 763us/step - loss: 0.5396 - accuracy: 0.8251\n",
      "Epoch 19/150\n",
      "12291/12291 [==============================] - 9s 765us/step - loss: 0.5375 - accuracy: 0.8233\n",
      "Epoch 20/150\n",
      "12291/12291 [==============================] - 9s 763us/step - loss: 0.5354 - accuracy: 0.8210\n",
      "Epoch 21/150\n",
      "12291/12291 [==============================] - 10s 792us/step - loss: 0.5358 - accuracy: 0.8235\n",
      "Epoch 22/150\n",
      "12291/12291 [==============================] - 9s 753us/step - loss: 0.5364 - accuracy: 0.8220\n",
      "Epoch 23/150\n",
      "12291/12291 [==============================] - 9s 768us/step - loss: 0.5358 - accuracy: 0.8185\n",
      "Epoch 24/150\n",
      "12291/12291 [==============================] - 9s 759us/step - loss: 0.5372 - accuracy: 0.8250\n",
      "Epoch 25/150\n",
      "12291/12291 [==============================] - 9s 758us/step - loss: 0.5348 - accuracy: 0.8235\n",
      "Epoch 26/150\n",
      "12291/12291 [==============================] - 9s 755us/step - loss: 0.5359 - accuracy: 0.8142\n",
      "Epoch 27/150\n",
      "12291/12291 [==============================] - 9s 757us/step - loss: 0.5345 - accuracy: 0.8274\n",
      "Epoch 28/150\n",
      "12291/12291 [==============================] - 10s 791us/step - loss: 0.5356 - accuracy: 0.8252\n",
      "Epoch 29/150\n",
      "12291/12291 [==============================] - 9s 757us/step - loss: 0.5368 - accuracy: 0.8194\n",
      "Epoch 30/150\n",
      "12291/12291 [==============================] - 9s 761us/step - loss: 0.5347 - accuracy: 0.8201\n",
      "Epoch 31/150\n",
      "12291/12291 [==============================] - 9s 764us/step - loss: 0.5332 - accuracy: 0.8203\n",
      "Epoch 32/150\n",
      "12291/12291 [==============================] - 9s 768us/step - loss: 0.5364 - accuracy: 0.8273\n",
      "Epoch 33/150\n",
      "12291/12291 [==============================] - 9s 761us/step - loss: 0.5369 - accuracy: 0.8211\n",
      "Epoch 34/150\n",
      "12291/12291 [==============================] - 9s 761us/step - loss: 0.5359 - accuracy: 0.8245\n",
      "Epoch 35/150\n",
      "12291/12291 [==============================] - 9s 763us/step - loss: 0.5356 - accuracy: 0.8233\n",
      "Epoch 36/150\n",
      "12291/12291 [==============================] - 10s 781us/step - loss: 0.5375 - accuracy: 0.8274\n",
      "Epoch 37/150\n",
      "12291/12291 [==============================] - 10s 781us/step - loss: 0.5365 - accuracy: 0.8242\n",
      "Epoch 38/150\n",
      "12291/12291 [==============================] - 11s 896us/step - loss: 0.5359 - accuracy: 0.8246\n",
      "Epoch 39/150\n",
      "12291/12291 [==============================] - 9s 771us/step - loss: 0.5340 - accuracy: 0.8238\n",
      "Epoch 40/150\n",
      "12291/12291 [==============================] - 9s 760us/step - loss: 0.5365 - accuracy: 0.8248\n",
      "Epoch 41/150\n",
      "12291/12291 [==============================] - 9s 755us/step - loss: 0.5347 - accuracy: 0.8226\n",
      "Epoch 42/150\n",
      "12291/12291 [==============================] - 9s 760us/step - loss: 0.5331 - accuracy: 0.8172\n",
      "Epoch 43/150\n",
      "12291/12291 [==============================] - 9s 770us/step - loss: 0.5341 - accuracy: 0.8274\n",
      "Epoch 44/150\n",
      "12291/12291 [==============================] - 9s 768us/step - loss: 0.5370 - accuracy: 0.8242\n",
      "Epoch 45/150\n",
      "12291/12291 [==============================] - 9s 759us/step - loss: 0.5346 - accuracy: 0.8264\n",
      "Epoch 46/150\n",
      "12291/12291 [==============================] - 9s 759us/step - loss: 0.5338 - accuracy: 0.8236\n",
      "Epoch 47/150\n",
      "12291/12291 [==============================] - 9s 764us/step - loss: 0.5348 - accuracy: 0.8248\n",
      "Epoch 48/150\n",
      "12291/12291 [==============================] - 10s 775us/step - loss: 0.5334 - accuracy: 0.8264\n",
      "Epoch 49/150\n",
      "12291/12291 [==============================] - 9s 768us/step - loss: 0.5356 - accuracy: 0.8211\n",
      "Epoch 50/150\n",
      "12291/12291 [==============================] - 9s 768us/step - loss: 0.5356 - accuracy: 0.8227\n",
      "Epoch 51/150\n",
      "12291/12291 [==============================] - 9s 764us/step - loss: 0.5342 - accuracy: 0.8248\n",
      "Epoch 52/150\n",
      "12291/12291 [==============================] - 9s 762us/step - loss: 0.5315 - accuracy: 0.8158\n",
      "Epoch 53/150\n",
      "12291/12291 [==============================] - 9s 765us/step - loss: 0.5373 - accuracy: 0.8300\n",
      "Epoch 54/150\n",
      "12291/12291 [==============================] - 10s 778us/step - loss: 0.5344 - accuracy: 0.8297\n",
      "Epoch 55/150\n",
      "12291/12291 [==============================] - 9s 759us/step - loss: 0.5389 - accuracy: 0.8236\n",
      "Epoch 56/150\n",
      "12291/12291 [==============================] - 9s 763us/step - loss: 0.5332 - accuracy: 0.8189\n",
      "Epoch 57/150\n",
      "12291/12291 [==============================] - 9s 768us/step - loss: 0.5339 - accuracy: 0.8240\n",
      "Epoch 58/150\n",
      "12291/12291 [==============================] - 9s 760us/step - loss: 0.5365 - accuracy: 0.8333\n",
      "Epoch 59/150\n",
      "12291/12291 [==============================] - 9s 760us/step - loss: 0.5358 - accuracy: 0.8234\n",
      "Epoch 60/150\n",
      "12291/12291 [==============================] - 9s 758us/step - loss: 0.5381 - accuracy: 0.8287\n",
      "Epoch 61/150\n",
      "12291/12291 [==============================] - 10s 774us/step - loss: 0.5356 - accuracy: 0.8263\n",
      "Epoch 62/150\n",
      "12291/12291 [==============================] - 9s 761us/step - loss: 0.5349 - accuracy: 0.8254\n",
      "Epoch 63/150\n",
      "12291/12291 [==============================] - 9s 768us/step - loss: 0.5365 - accuracy: 0.8270\n",
      "Epoch 64/150\n",
      "12291/12291 [==============================] - 9s 760us/step - loss: 0.5328 - accuracy: 0.8202\n",
      "Epoch 65/150\n",
      "12291/12291 [==============================] - 9s 765us/step - loss: 0.5355 - accuracy: 0.8312\n",
      "Epoch 66/150\n",
      "12291/12291 [==============================] - 9s 761us/step - loss: 0.5339 - accuracy: 0.8252\n",
      "Epoch 67/150\n",
      "12291/12291 [==============================] - 9s 762us/step - loss: 0.5347 - accuracy: 0.8221\n",
      "Epoch 68/150\n",
      "12291/12291 [==============================] - 10s 800us/step - loss: 0.5368 - accuracy: 0.8268\n",
      "Epoch 69/150\n",
      "12291/12291 [==============================] - 9s 767us/step - loss: 0.5336 - accuracy: 0.8309\n",
      "Epoch 70/150\n",
      "12291/12291 [==============================] - 9s 766us/step - loss: 0.5298 - accuracy: 0.8178\n",
      "Epoch 71/150\n",
      "12291/12291 [==============================] - 10s 773us/step - loss: 0.5424 - accuracy: 0.8345\n",
      "Epoch 72/150\n",
      "12291/12291 [==============================] - 9s 761us/step - loss: 0.5340 - accuracy: 0.8211\n",
      "Epoch 73/150\n",
      "12291/12291 [==============================] - 9s 766us/step - loss: 0.5362 - accuracy: 0.8290\n",
      "Epoch 74/150\n",
      "12291/12291 [==============================] - 9s 771us/step - loss: 0.5339 - accuracy: 0.8228\n",
      "Epoch 75/150\n",
      "12291/12291 [==============================] - 9s 761us/step - loss: 0.5349 - accuracy: 0.8246\n",
      "Epoch 76/150\n"
     ]
    },
    {
     "name": "stdout",
     "output_type": "stream",
     "text": [
      "12291/12291 [==============================] - 9s 743us/step - loss: 0.5342 - accuracy: 0.8241\n",
      "Epoch 77/150\n",
      "12291/12291 [==============================] - 10s 802us/step - loss: 0.5390 - accuracy: 0.8319\n",
      "Epoch 78/150\n",
      "12291/12291 [==============================] - 9s 747us/step - loss: 0.5290 - accuracy: 0.8274\n",
      "Epoch 79/150\n",
      "12291/12291 [==============================] - 9s 745us/step - loss: 0.5336 - accuracy: 0.8238\n",
      "Epoch 80/150\n",
      "12291/12291 [==============================] - 9s 753us/step - loss: 0.5371 - accuracy: 0.8304\n",
      "Epoch 81/150\n",
      "12291/12291 [==============================] - 9s 744us/step - loss: 0.5357 - accuracy: 0.8328\n",
      "Epoch 82/150\n",
      "12291/12291 [==============================] - 9s 752us/step - loss: 0.5341 - accuracy: 0.8238\n",
      "Epoch 83/150\n",
      "12291/12291 [==============================] - 9s 748us/step - loss: 0.5329 - accuracy: 0.8218\n",
      "Epoch 84/150\n",
      "12291/12291 [==============================] - 9s 743us/step - loss: 0.5368 - accuracy: 0.8315\n",
      "Epoch 85/150\n",
      "12291/12291 [==============================] - 10s 783us/step - loss: 0.5349 - accuracy: 0.8281\n",
      "Epoch 86/150\n",
      "12291/12291 [==============================] - 9s 763us/step - loss: 0.5355 - accuracy: 0.8222\n",
      "Epoch 87/150\n",
      "12291/12291 [==============================] - 10s 777us/step - loss: 0.5341 - accuracy: 0.8236\n",
      "Epoch 88/150\n",
      "12291/12291 [==============================] - 9s 745us/step - loss: 0.5333 - accuracy: 0.8321\n",
      "Epoch 89/150\n",
      "12291/12291 [==============================] - 9s 746us/step - loss: 0.5351 - accuracy: 0.8217\n",
      "Epoch 90/150\n",
      "12291/12291 [==============================] - 9s 746us/step - loss: 0.5348 - accuracy: 0.8241\n",
      "Epoch 91/150\n",
      "12291/12291 [==============================] - 9s 745us/step - loss: 0.5366 - accuracy: 0.8295\n",
      "Epoch 92/150\n",
      "12291/12291 [==============================] - 11s 866us/step - loss: 0.5388 - accuracy: 0.8285\n",
      "Epoch 93/150\n",
      "12291/12291 [==============================] - 9s 760us/step - loss: 0.5358 - accuracy: 0.8253\n",
      "Epoch 94/150\n",
      "12291/12291 [==============================] - 9s 761us/step - loss: 0.5351 - accuracy: 0.8278\n",
      "Epoch 95/150\n",
      "12291/12291 [==============================] - 9s 760us/step - loss: 0.5368 - accuracy: 0.8320\n",
      "Epoch 96/150\n",
      "12291/12291 [==============================] - 9s 760us/step - loss: 0.5345 - accuracy: 0.8260\n",
      "Epoch 97/150\n",
      "12291/12291 [==============================] - 9s 760us/step - loss: 0.5337 - accuracy: 0.8225\n",
      "Epoch 98/150\n",
      "12291/12291 [==============================] - 9s 768us/step - loss: 0.5331 - accuracy: 0.8241\n",
      "Epoch 99/150\n",
      "12291/12291 [==============================] - 9s 766us/step - loss: 0.5380 - accuracy: 0.8304\n",
      "Epoch 100/150\n",
      "12291/12291 [==============================] - 9s 758us/step - loss: 0.5374 - accuracy: 0.8324\n",
      "Epoch 101/150\n",
      "12291/12291 [==============================] - 9s 757us/step - loss: 0.5356 - accuracy: 0.8282\n",
      "Epoch 102/150\n",
      "12291/12291 [==============================] - 9s 766us/step - loss: 0.5349 - accuracy: 0.8248\n",
      "Epoch 103/150\n",
      "12291/12291 [==============================] - 9s 763us/step - loss: 0.5390 - accuracy: 0.8306\n",
      "Epoch 104/150\n",
      "12291/12291 [==============================] - 9s 761us/step - loss: 0.5373 - accuracy: 0.8295\n",
      "Epoch 105/150\n",
      "12291/12291 [==============================] - 9s 761us/step - loss: 0.5379 - accuracy: 0.8304\n",
      "Epoch 106/150\n",
      "12291/12291 [==============================] - 9s 766us/step - loss: 0.5254 - accuracy: 0.8175\n",
      "Epoch 107/150\n",
      "12291/12291 [==============================] - 9s 762us/step - loss: 0.5360 - accuracy: 0.8393\n",
      "Epoch 108/150\n",
      "12291/12291 [==============================] - 9s 760us/step - loss: 0.5353 - accuracy: 0.8221\n",
      "Epoch 109/150\n",
      "12291/12291 [==============================] - 9s 764us/step - loss: 0.5303 - accuracy: 0.8187\n",
      "Epoch 110/150\n",
      "12291/12291 [==============================] - 9s 762us/step - loss: 0.5362 - accuracy: 0.8278\n",
      "Epoch 111/150\n",
      "12291/12291 [==============================] - 9s 759us/step - loss: 0.5291 - accuracy: 0.8262\n",
      "Epoch 112/150\n",
      "12291/12291 [==============================] - 9s 767us/step - loss: 0.5332 - accuracy: 0.8262\n",
      "Epoch 113/150\n",
      "12291/12291 [==============================] - 9s 759us/step - loss: 0.5333 - accuracy: 0.8297\n",
      "Epoch 114/150\n",
      "12291/12291 [==============================] - 9s 764us/step - loss: 0.5353 - accuracy: 0.8223\n",
      "Epoch 115/150\n",
      "12291/12291 [==============================] - 10s 807us/step - loss: 0.5286 - accuracy: 0.8220\n",
      "Epoch 116/150\n",
      "12291/12291 [==============================] - 9s 762us/step - loss: 0.5353 - accuracy: 0.8256\n",
      "Epoch 117/150\n",
      "12291/12291 [==============================] - 9s 759us/step - loss: 0.5319 - accuracy: 0.8232\n",
      "Epoch 118/150\n",
      "12291/12291 [==============================] - 9s 755us/step - loss: 0.5365 - accuracy: 0.8282\n",
      "Epoch 119/150\n",
      "12291/12291 [==============================] - 9s 757us/step - loss: 0.5354 - accuracy: 0.8274\n",
      "Epoch 120/150\n",
      "12291/12291 [==============================] - ETA: 0s - loss: 0.5331 - accuracy: 0.82 - 9s 761us/step - loss: 0.5327 - accuracy: 0.8278\n",
      "Epoch 121/150\n",
      "12291/12291 [==============================] - 9s 766us/step - loss: 0.5221 - accuracy: 0.8159\n",
      "Epoch 122/150\n",
      "12291/12291 [==============================] - 9s 754us/step - loss: 0.5385 - accuracy: 0.8312\n",
      "Epoch 123/150\n",
      "12291/12291 [==============================] - 9s 757us/step - loss: 0.5362 - accuracy: 0.8281\n",
      "Epoch 124/150\n",
      "12291/12291 [==============================] - 9s 755us/step - loss: 0.5340 - accuracy: 0.8225\n",
      "Epoch 125/150\n",
      "12291/12291 [==============================] - 9s 767us/step - loss: 0.5323 - accuracy: 0.8307\n",
      "Epoch 126/150\n",
      "12291/12291 [==============================] - 9s 765us/step - loss: 0.5359 - accuracy: 0.8300\n",
      "Epoch 127/150\n",
      "12291/12291 [==============================] - 9s 760us/step - loss: 0.5346 - accuracy: 0.8285\n",
      "Epoch 128/150\n",
      "12291/12291 [==============================] - 9s 758us/step - loss: 0.5342 - accuracy: 0.8228\n",
      "Epoch 129/150\n",
      "12291/12291 [==============================] - 9s 759us/step - loss: 0.5331 - accuracy: 0.8253\n",
      "Epoch 130/150\n",
      "12291/12291 [==============================] - 10s 788us/step - loss: 0.5385 - accuracy: 0.8322\n",
      "Epoch 131/150\n",
      "12291/12291 [==============================] - 9s 734us/step - loss: 0.5371 - accuracy: 0.8304\n",
      "Epoch 132/150\n",
      "12291/12291 [==============================] - 11s 922us/step - loss: 0.5314 - accuracy: 0.8222\n",
      "Epoch 133/150\n",
      "12291/12291 [==============================] - 10s 814us/step - loss: 0.5338 - accuracy: 0.8320\n",
      "Epoch 134/150\n",
      "12291/12291 [==============================] - 9s 726us/step - loss: 0.5348 - accuracy: 0.8292\n",
      "Epoch 135/150\n",
      "12291/12291 [==============================] - 9s 706us/step - loss: 0.5337 - accuracy: 0.8314\n",
      "Epoch 136/150\n",
      "12291/12291 [==============================] - 9s 768us/step - loss: 0.5336 - accuracy: 0.8207\n",
      "Epoch 137/150\n",
      "12291/12291 [==============================] - 9s 749us/step - loss: 0.5342 - accuracy: 0.8264\n",
      "Epoch 138/150\n",
      "12291/12291 [==============================] - 10s 822us/step - loss: 0.5359 - accuracy: 0.8291\n",
      "Epoch 139/150\n",
      "12291/12291 [==============================] - 9s 744us/step - loss: 0.5333 - accuracy: 0.8265\n",
      "Epoch 140/150\n",
      "12291/12291 [==============================] - 9s 740us/step - loss: 0.5362 - accuracy: 0.8307\n",
      "Epoch 141/150\n",
      "12291/12291 [==============================] - 9s 745us/step - loss: 0.5372 - accuracy: 0.8289\n",
      "Epoch 142/150\n",
      "12291/12291 [==============================] - 9s 738us/step - loss: 0.5352 - accuracy: 0.8297\n",
      "Epoch 143/150\n",
      "12291/12291 [==============================] - 10s 795us/step - loss: 0.5350 - accuracy: 0.8256\n",
      "Epoch 144/150\n",
      "12291/12291 [==============================] - 9s 765us/step - loss: 0.5344 - accuracy: 0.8271\n",
      "Epoch 145/150\n",
      "12291/12291 [==============================] - 9s 762us/step - loss: 0.5347 - accuracy: 0.8307\n",
      "Epoch 146/150\n",
      "12291/12291 [==============================] - 10s 801us/step - loss: 0.5268 - accuracy: 0.8168\n",
      "Epoch 147/150\n",
      "12291/12291 [==============================] - 9s 767us/step - loss: 0.5386 - accuracy: 0.8299\n",
      "Epoch 148/150\n",
      "12291/12291 [==============================] - 9s 760us/step - loss: 0.5325 - accuracy: 0.8242\n",
      "Epoch 149/150\n",
      "12291/12291 [==============================] - 9s 758us/step - loss: 0.5387 - accuracy: 0.8339\n",
      "Epoch 150/150\n",
      "12291/12291 [==============================] - 10s 774us/step - loss: 0.5340 - accuracy: 0.8271\n"
     ]
    }
   ],
   "source": [
    "from keras.models import Sequential\n",
    "from keras.layers import Dense\n",
    "from keras.wrappers.scikit_learn import KerasClassifier\n",
    "\n",
    "def create_model(activation = 'linear'):\n",
    "# define the keras model\n",
    "    model = Sequential()\n",
    "    model.add(Dense(12, input_dim=18, kernel_initializer='uniform', activation='linear'))\n",
    "    model.add(Dense(8, activation='linear'))\n",
    "    model.add(Dense(1,kernel_initializer='uniform', activation='sigmoid'))\n",
    "\n",
    "# compile the keras model\n",
    "    km = model.compile(loss='binary_crossentropy', optimizer='adam', metrics=['accuracy'])\n",
    "    return model\n",
    "\n",
    "model = KerasClassifier(build_fn=create_model, epochs=150, batch_size=10)\n",
    "\n",
    "# fit the keras model on the dataset\n",
    "kn = model.fit(X_train,Y_train)"
   ]
  },
  {
   "cell_type": "code",
   "execution_count": 134,
   "metadata": {},
   "outputs": [
    {
     "name": "stdout",
     "output_type": "stream",
     "text": [
      "Classification report: \n",
      "               precision    recall  f1-score   support\n",
      "\n",
      "           0       0.90      0.79      0.84     26479\n",
      "           1       0.73      0.87      0.79     17389\n",
      "\n",
      "    accuracy                           0.82     43868\n",
      "   macro avg       0.82      0.83      0.82     43868\n",
      "weighted avg       0.83      0.82      0.82     43868\n",
      "\n"
     ]
    },
    {
     "data": {
      "image/png": "[encoded data removed]",
      "text/plain": [
       "<Figure size 576x432 with 2 Axes>"
      ]
     },
     "metadata": {
      "needs_background": "light"
     },
     "output_type": "display_data"
    },
    {
     "name": "stdout",
     "output_type": "stream",
     "text": [
      "Confusion matrix: \n",
      " [[20986  5493]\n",
      " [ 2342 15047]]\n",
      "TP:  15047\n",
      "TN:  20986\n",
      "FP:  5493\n",
      "FN:  2342\n"
     ]
    }
   ],
   "source": [
    "Y_pred = model.predict(X_test)\n",
    "print('Classification report: \\n', metrics.classification_report(Y_test, Y_pred))\n",
    "\n",
    "conf_mat = metrics.confusion_matrix(Y_test, Y_pred)\n",
    "plt.figure(figsize=(8,6))\n",
    "sns.heatmap(conf_mat,annot=True)\n",
    "plt.title(\"Confusion_matrix\")\n",
    "plt.xlabel(\"Predicted Class\")\n",
    "plt.ylabel(\"Actual class\")\n",
    "plt.show()\n",
    "print('Confusion matrix: \\n', conf_mat)\n",
    "print('TP: ', conf_mat[1,1])\n",
    "print('TN: ', conf_mat[0,0])\n",
    "print('FP: ', conf_mat[0,1])\n",
    "print('FN: ', conf_mat[1,0])"
   ]
  },
  {
   "cell_type": "code",
   "execution_count": null,
   "metadata": {},
   "outputs": [],
   "source": []
  }
 ],
 "metadata": {
  "kernelspec": {
   "display_name": "Python 3",
   "language": "python",
   "name": "python3"
  },
  "language_info": {
   "codemirror_mode": {
    "name": "ipython",
    "version": 3
   },
   "file_extension": ".py",
   "mimetype": "text/x-python",
   "name": "python",
   "nbconvert_exporter": "python",
   "pygments_lexer": "ipython3",
   "version": "3.7.3"
  }
 },
 "nbformat": 4,
 "nbformat_minor": 2
}
