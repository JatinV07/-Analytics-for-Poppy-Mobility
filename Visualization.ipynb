{
 "cells": [
  {
   "cell_type": "code",
   "execution_count": 27,
   "metadata": {},
   "outputs": [],
   "source": [
    "import re, nltk\n",
    "import time\n",
    "import numpy as np\n",
    "import pandas as pd\n",
    "import seaborn as sns\n",
    "import matplotlib.pyplot as plt\n",
    "from bs4 import BeautifulSoup\n",
    "from nltk.stem import WordNetLemmatizer\n",
    "from nltk.corpus import stopwords\n",
    "from sklearn.feature_extraction.text import TfidfVectorizer\n",
    "from sklearn.model_selection import KFold\n",
    "from sklearn.svm import LinearSVC\n",
    "from sklearn.naive_bayes import MultinomialNB\n",
    "from sklearn.preprocessing import StandardScaler\n",
    "from sklearn.metrics import confusion_matrix\n",
    "from imblearn.over_sampling import SMOTE\n",
    "from sklearn.ensemble import RandomForestClassifier, AdaBoostClassifier, GradientBoostingClassifier\n",
    "from sklearn.model_selection import GridSearchCV\n",
    "from sklearn import metrics\n",
    "import joblib\n",
    "from datetime import date\n",
    "from sklearn.model_selection import train_test_split\n",
    "from sklearn.svm import SVC\n",
    "from xgboost import XGBClassifier\n",
    "from sklearn.linear_model import LogisticRegression\n",
    "\n",
    "\n",
    "import holidays\n",
    "import datetime\n",
    "from io import StringIO\n",
    "from workalendar.europe import Belgium\n",
    "\n",
    "import warnings\n",
    "warnings.filterwarnings(\"ignore\")"
   ]
  },
  {
   "cell_type": "code",
   "execution_count": 35,
   "metadata": {},
   "outputs": [],
   "source": [
    "def holiday(rev):\n",
    "    \n",
    "    cal = Belgium()\n",
    "    holiday = cal.is_working_day(rev)\n",
    "    return holiday\n",
    "\n",
    "def VehicleType(column):\n",
    "    if column == 'SCOOTER':\n",
    "        return 'Scooter'\n",
    "    elif column == 'OKAI Kickscooter' or column == 'KICKSCOOTER':\n",
    "        return 'Kickscooter'\n",
    "    else:\n",
    "        return 'Car'\n",
    "    \n",
    "def CarGroup(column):\n",
    "    if column == 'IBIZA - All' or column == 'CORSA - Brussels':\n",
    "        return 'Combustion cars'\n",
    "    elif column == 'CITIGO - Antwerp' or column == 'MII - Antwerp' or column == 'G-TRON' or column == 'E-GOLF':       \n",
    "        return 'Evs'\n",
    "    else:\n",
    "        return 'Non-Cars'\n",
    "    \n",
    "def Assets(column):\n",
    "    if column == 'Scooter' or column == 'Kickscooter':\n",
    "        return 'Soft Assets'\n",
    "    else:        \n",
    "        return 'Cars'   \n",
    "    \n",
    "def ActualRide(column):\n",
    "    if column > 200:\n",
    "        return column\n",
    "    else:\n",
    "        return 'technical Issue' \n",
    "    \n",
    "def VehicleTypeConverter(column):\n",
    "    if column < 5000:\n",
    "        return 'Short Trip'\n",
    "    else:\n",
    "        return 'Long Trip'\n",
    "    \n",
    "def AgeConverter(column):\n",
    "    if column < 25:\n",
    "        return 'less tan 25'\n",
    "    elif column >25 and column < 45:\n",
    "        return '25 - 45'\n",
    "    else:\n",
    "        return 'more than 45'"
   ]
  },
  {
   "cell_type": "code",
   "execution_count": 36,
   "metadata": {},
   "outputs": [],
   "source": [
    "df = pd.read_csv(\"test.csv\", encoding = \"ISO-8859-1\")"
   ]
  },
  {
   "cell_type": "code",
   "execution_count": 37,
   "metadata": {},
   "outputs": [],
   "source": [
    "df['distance'] = df['distance'].apply(ActualRide)\n",
    "false_ride = ['technical Issue']\n",
    "df = df[~df['distance'].isin(false_ride)]\n",
    "\n",
    "undefined_gender = ['UNDEFINED']\n",
    "df = df[~df['gender'].isin(undefined_gender)]"
   ]
  },
  {
   "cell_type": "code",
   "execution_count": 38,
   "metadata": {},
   "outputs": [],
   "source": [
    "df['distance'] = df['distance'].apply(VehicleTypeConverter)\n",
    "df['age group'] = df['age'].apply(AgeConverter)"
   ]
  },
  {
   "cell_type": "code",
   "execution_count": 39,
   "metadata": {},
   "outputs": [],
   "source": [
    "df.to_csv('visualize.csv')"
   ]
  },
  {
   "cell_type": "code",
   "execution_count": null,
   "metadata": {},
   "outputs": [],
   "source": []
  }
 ],
 "metadata": {
  "kernelspec": {
   "display_name": "Python 3",
   "language": "python",
   "name": "python3"
  },
  "language_info": {
   "codemirror_mode": {
    "name": "ipython",
    "version": 3
   },
   "file_extension": ".py",
   "mimetype": "text/x-python",
   "name": "python",
   "nbconvert_exporter": "python",
   "pygments_lexer": "ipython3",
   "version": "3.7.3"
  }
 },
 "nbformat": 4,
 "nbformat_minor": 2
}
